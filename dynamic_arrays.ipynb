{
  "nbformat": 4,
  "nbformat_minor": 0,
  "metadata": {
    "colab": {
      "provenance": [],
      "include_colab_link": true
    },
    "kernelspec": {
      "name": "python3",
      "display_name": "Python 3"
    },
    "language_info": {
      "name": "python"
    }
  },
  "cells": [
    {
      "cell_type": "markdown",
      "metadata": {
        "id": "view-in-github",
        "colab_type": "text"
      },
      "source": [
        "<a href=\"https://colab.research.google.com/github/shivamoksha/dsa-using-python/blob/main/dynamic_arrays.ipynb\" target=\"_parent\"><img src=\"https://colab.research.google.com/assets/colab-badge.svg\" alt=\"Open In Colab\"/></a>"
      ]
    },
    {
      "cell_type": "code",
      "source": [
        "\n",
        "import ctypes\n",
        "# to create C type ka array"
      ],
      "metadata": {
        "id": "QZ5u8mep3z4q"
      },
      "execution_count": 1,
      "outputs": []
    },
    {
      "cell_type": "code",
      "source": [
        "class MeraList:\n",
        "\n",
        "  def __init__(self):\n",
        "    self.size = 1\n",
        "    self.n = 0\n",
        "    # create a C type ka array with size -> self.size\n",
        "    self.A = self.__make_array(self.size)\n",
        "\n",
        "  def __len__(self):\n",
        "    return self.n\n",
        "\n",
        "  def append(self,item):\n",
        "    # check if vacant\n",
        "    if self.n == self.size:\n",
        "      # array is full -> resize\n",
        "      self.__resize(self.size*2)\n",
        "\n",
        "    self.A[self.n] = item\n",
        "    self.n = self.n + 1\n",
        "\n",
        "  def pop(self):\n",
        "    if self.n == 0:\n",
        "      return 'Empty List'\n",
        "    print(self.A[self.n-1])\n",
        "    self.n = self.n - 1\n",
        "\n",
        "  def clear(self):\n",
        "    self.n = 0\n",
        "    self.size = 1\n",
        "\n",
        "  def find(self,item):\n",
        "\n",
        "    for i in range(self.n):\n",
        "      if self.A[i] == item:\n",
        "        return i\n",
        "    return 'ValueError - not in list'\n",
        "\n",
        "  def insert(self,pos,item):\n",
        "\n",
        "    if self.n == self.size:\n",
        "      self.__resize(self.size*2)\n",
        "\n",
        "    for i in range(self.n,pos,-1):\n",
        "      self.A[i] = self.A[i-1]\n",
        "\n",
        "    self.A[pos] = item\n",
        "    self.n = self.n + 1\n",
        "\n",
        "  def remove(self,item):\n",
        "    # search and get pos\n",
        "    pos = self.find(item)\n",
        "    if type(pos) == int:\n",
        "      # delete\n",
        "      self.__delitem__(pos)\n",
        "    else:\n",
        "      return pos\n",
        "\n",
        "  def __resize(self,new_capacity):\n",
        "    # create a new array with new capacity\n",
        "    B = self.__make_array(new_capacity)\n",
        "    self.size = new_capacity\n",
        "    # copy the content of old array to new one\n",
        "    for i in range(self.n):\n",
        "      B[i] = self.A[i]\n",
        "    # reassign A\n",
        "    self.A = B\n",
        "\n",
        "  def __str__(self):\n",
        "    result = ''\n",
        "    for i in range(self.n):\n",
        "      result = result + str(self.A[i]) + ','\n",
        "\n",
        "    return '[' + result[:-1] + ']'\n",
        "\n",
        "  def __getitem__(self,index):\n",
        "\n",
        "    if 0<= index < self.n:\n",
        "      return self.A[index]\n",
        "    else:\n",
        "      return 'IndexError'\n",
        "\n",
        "  def __delitem__(self,pos):\n",
        "    # delete pos wala item\n",
        "    if 0<= pos < self.n:\n",
        "      for i in range(pos,self.n-1):\n",
        "        self.A[i] = self.A[i+1]\n",
        "\n",
        "      self.n = self.n - 1\n",
        "\n",
        "  def __make_array(self,capacity):\n",
        "    # referential array(C type)\n",
        "    return (capacity*ctypes.py_object)()"
      ],
      "metadata": {
        "id": "FJ_5iTUh4Jcv"
      },
      "execution_count": 2,
      "outputs": []
    },
    {
      "cell_type": "code",
      "source": [
        "L = MeraList()"
      ],
      "metadata": {
        "id": "0dr0QIug5WXt"
      },
      "execution_count": null,
      "outputs": []
    },
    {
      "cell_type": "code",
      "source": [
        "L.append(1)\n",
        "L.append('hello')\n",
        "L.append(False)\n",
        "L.append(4.5)"
      ],
      "metadata": {
        "id": "kRiwtEgJ5Y5l"
      },
      "execution_count": null,
      "outputs": []
    },
    {
      "cell_type": "code",
      "source": [
        "print(L)"
      ],
      "metadata": {
        "colab": {
          "base_uri": "https://localhost:8080/"
        },
        "id": "JrdjNFWC8Wbn",
        "outputId": "170821bd-8d0f-4016-aa9d-f064cb270e64"
      },
      "execution_count": null,
      "outputs": [
        {
          "output_type": "stream",
          "name": "stdout",
          "text": [
            "[1,False]\n"
          ]
        }
      ]
    },
    {
      "cell_type": "code",
      "source": [
        "L.remove(4.5)"
      ],
      "metadata": {
        "colab": {
          "base_uri": "https://localhost:8080/",
          "height": 35
        },
        "id": "WbFSLfpy8tK-",
        "outputId": "75daf089-3d0c-4d19-8f49-7930d70e06af"
      },
      "execution_count": null,
      "outputs": [
        {
          "output_type": "execute_result",
          "data": {
            "text/plain": [
              "'ValueError - not in list'"
            ],
            "application/vnd.google.colaboratory.intrinsic+json": {
              "type": "string"
            }
          },
          "metadata": {},
          "execution_count": 175
        }
      ]
    },
    {
      "cell_type": "code",
      "source": [
        "L = [10,20,30]\n",
        "L"
      ],
      "metadata": {
        "colab": {
          "base_uri": "https://localhost:8080/"
        },
        "id": "eFiGLQqB5emG",
        "outputId": "e3000a0e-d9d7-4018-f312-84ad7288287f"
      },
      "execution_count": null,
      "outputs": [
        {
          "output_type": "execute_result",
          "data": {
            "text/plain": [
              "[10, 20, 30]"
            ]
          },
          "metadata": {},
          "execution_count": 161
        }
      ]
    },
    {
      "cell_type": "code",
      "source": [
        "L.remove(200)"
      ],
      "metadata": {
        "colab": {
          "base_uri": "https://localhost:8080/",
          "height": 168
        },
        "id": "PdLotNNm5vo7",
        "outputId": "51db0c71-0370-4d25-cdac-955b50c6ff0f"
      },
      "execution_count": null,
      "outputs": [
        {
          "output_type": "error",
          "ename": "ValueError",
          "evalue": "ignored",
          "traceback": [
            "\u001b[0;31m---------------------------------------------------------------------------\u001b[0m",
            "\u001b[0;31mValueError\u001b[0m                                Traceback (most recent call last)",
            "\u001b[0;32m<ipython-input-166-94e77ffffe0d>\u001b[0m in \u001b[0;36m<module>\u001b[0;34m()\u001b[0m\n\u001b[0;32m----> 1\u001b[0;31m \u001b[0mL\u001b[0m\u001b[0;34m.\u001b[0m\u001b[0mremove\u001b[0m\u001b[0;34m(\u001b[0m\u001b[0;36m200\u001b[0m\u001b[0;34m)\u001b[0m\u001b[0;34m\u001b[0m\u001b[0;34m\u001b[0m\u001b[0m\n\u001b[0m",
            "\u001b[0;31mValueError\u001b[0m: list.remove(x): x not in list"
          ]
        }
      ]
    },
    {
      "cell_type": "code",
      "source": [
        "L"
      ],
      "metadata": {
        "colab": {
          "base_uri": "https://localhost:8080/"
        },
        "id": "AO7K_n7-5wxT",
        "outputId": "737f3c40-e31a-4b0c-9920-b369e77b2625"
      },
      "execution_count": null,
      "outputs": [
        {
          "output_type": "execute_result",
          "data": {
            "text/plain": [
              "[10]"
            ]
          },
          "metadata": {},
          "execution_count": 165
        }
      ]
    },
    {
      "cell_type": "code",
      "source": [],
      "metadata": {
        "id": "pBkFYaVX3bkt"
      },
      "execution_count": null,
      "outputs": []
    },
    {
      "source": [
        "import ctypes\n",
        "\n",
        "class MeraList:\n",
        "\n",
        "    def __init__(self):\n",
        "        self.size = 1\n",
        "        self.n = 0\n",
        "        self.A = self.__make_array(self.size)\n",
        "\n",
        "    # ... (Other existing methods) ...\n",
        "\n",
        "    def sort(self):\n",
        "        \"\"\"Sorts the list in ascending order using selection sort.\"\"\"\n",
        "        for i in range(self.n):\n",
        "            min_index = i\n",
        "            for j in range(i + 1, self.n):\n",
        "                if self.A[j] < self.A[min_index]:\n",
        "                    min_index = j\n",
        "            self.A[i], self.A[min_index] = self.A[min_index], self.A[i]\n",
        "\n",
        "    def min(self):\n",
        "        \"\"\"Returns the minimum element in the list.\"\"\"\n",
        "        if self.n == 0:\n",
        "            return \"Empty List\"\n",
        "        self.sort()  # Sort the list first\n",
        "        return self.A[0]  # Minimum element is now at index 0\n",
        "\n",
        "    def max(self):\n",
        "        \"\"\"Returns the maximum element in the list.\"\"\"\n",
        "        if self.n == 0:\n",
        "            return \"Empty List\"\n",
        "        self.sort()  # Sort the list first\n",
        "        return self.A[self.n - 1]  # Maximum element is now at the last index\n",
        "\n",
        "    def sum(self):\n",
        "        \"\"\"Returns the sum of all elements in the list.\"\"\"\n",
        "        total = 0\n",
        "        for i in range(self.n):\n",
        "            total += self.A[i]\n",
        "        return total\n",
        "\n",
        "    # ... (Other existing methods) ..."
      ],
      "cell_type": "code",
      "metadata": {
        "id": "1Hz538X-34eT"
      },
      "execution_count": 19,
      "outputs": []
    },
    {
      "source": [
        "class MeraList:\n",
        "    # ... (Your existing code) ...\n",
        "\n",
        "    def extend(self, iterable):\n",
        "        \"\"\"Extends the list by appending elements from the iterable.\"\"\"\n",
        "        for item in iterable:\n",
        "            self.append(item)  # Use the existing append method"
      ],
      "cell_type": "code",
      "metadata": {
        "id": "79PWmo_c3xDJ"
      },
      "execution_count": 18,
      "outputs": []
    },
    {
      "cell_type": "markdown",
      "source": [
        "## Negative ***indexing***\n",
        "\n",
        "\n"
      ],
      "metadata": {
        "id": "kzUKS4ii4t-U"
      }
    },
    {
      "source": [
        "def __getitem__(self, index):\n",
        "    if index >= 0:  # Check if index is positive\n",
        "        if index < self.n:  # Ensure positive index is in range\n",
        "            return self.A[index]\n",
        "    else:   # index is negative\n",
        "        if abs(index) <= self.n: # Ensure negative index is within the valid range\n",
        "            return self.A[self.n + index]  # Get element using negative index logic\n",
        "    return 'IndexError'  # If index is out of range in either direction"
      ],
      "cell_type": "code",
      "metadata": {
        "id": "4t9Dr4vU4p_j"
      },
      "execution_count": 20,
      "outputs": []
    },
    {
      "source": [
        "class MeraList:\n",
        "    # ... (Your existing code) ...\n",
        "\n",
        "    def reverse(self):\n",
        "        \"\"\"Reverses the list in-place.\"\"\"\n",
        "        start = 0\n",
        "        end = self.n - 1\n",
        "\n",
        "        while start < end:\n",
        "            # Swap elements at start and end indices\n",
        "            self.A[start], self.A[end] = self.A[end], self.A[start]\n",
        "            start += 1\n",
        "            end -= 1\n"
      ],
      "cell_type": "code",
      "metadata": {
        "id": "NtsL9QtR6xbF"
      },
      "execution_count": 21,
      "outputs": []
    },
    {
      "source": [
        "def __getitem__(self, index):\n",
        "    if isinstance(index, slice):  # Check if index is a slice object\n",
        "        start, stop, step = index.indices(self.n)  # Adjust for list length\n",
        "        # If step is negative, reverse the slice using list comprehension.\n",
        "        if step < 0:\n",
        "            return [self.A[i] for i in range(start, stop, step)][::-1]\n",
        "        # If step is positive (or default 1), directly return the slice.\n",
        "        else:\n",
        "            return [self.A[i] for i in range(start, stop, step)]\n",
        "    elif 0 <= index < self.n:  # Regular index access\n",
        "        return self.A[index]\n",
        "    else:\n",
        "        return 'IndexError'"
      ],
      "cell_type": "code",
      "metadata": {
        "id": "DU2o7hzm5f_P"
      },
      "execution_count": 22,
      "outputs": []
    },
    {
      "source": [
        "def __getitem__(self, index):\n",
        "    if isinstance(index, tuple):  # Check for slicing notation\n",
        "        start, stop, step = index  # Get slice values directly\n",
        "\n",
        "        # Handle missing values\n",
        "        if start is None:\n",
        "            start = 0\n",
        "        if stop is None:\n",
        "            stop = self.n\n",
        "        if step is None:\n",
        "            step = 1\n",
        "\n",
        "        # Adjust for negative indices\n",
        "        if start < 0:\n",
        "            start += self.n\n",
        "        if stop < 0:\n",
        "            stop += self.n\n",
        "\n",
        "        # Create a new MeraList for the slice\n",
        "        result = MeraList()\n",
        "        for i in range(start, stop, step):\n",
        "            if 0 <= i < self.n:  # Check for valid indices\n",
        "                result.append(self.A[i])\n",
        "\n",
        "        return result\n",
        "    elif 0 <= index < self.n:  # Regular index access\n",
        "        return self.A[index]\n",
        "    else:\n",
        "        return 'IndexError'"
      ],
      "cell_type": "code",
      "metadata": {
        "id": "L0Kf5Lol7fAo"
      },
      "execution_count": null,
      "outputs": []
    },
    {
      "source": [
        "def __getitem__(self, index):\n",
        "    if index.__class__ == tuple:  # Check for slicing notation without isinstance\n",
        "        start, stop, step = index  # Get slice values directly\n",
        "\n",
        "        # ... (rest of the slicing logic remains the same) ...\n",
        "\n",
        "    elif 0 <= index < self.n:  # Regular index access\n",
        "        return self.A[index]\n",
        "    else:\n",
        "        return 'IndexError'"
      ],
      "cell_type": "code",
      "metadata": {
        "id": "HvwFkcr77oV4"
      },
      "execution_count": null,
      "outputs": []
    }
  ]
}